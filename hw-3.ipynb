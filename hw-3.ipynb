{
 "cells": [
  {
   "cell_type": "code",
   "execution_count": null,
   "metadata": {},
   "outputs": [],
   "source": [
    "%matplotlib inline\n",
    "import numpy as np\n",
    "import matplotlib.pyplot as plt"
   ]
  },
  {
   "cell_type": "code",
   "execution_count": null,
   "metadata": {},
   "outputs": [],
   "source": [
    "x = np.arange(0, 2*np.pi, 2*np.pi/1000) #create x=[0...2pi] w/ 1000 values\n",
    "\n",
    "y1 = 5.5*np.cos(2*x)+5.5                #y1 = 5.5cos(2x)+5.5\n",
    "y2 = 0.02*np.exp(x)                     #y2 = 0.02e^x\n",
    "y3 = 0.25*x**2+0.1*np.sin(10*x)         #y3 = 0.25x^2+0.1sin(10x)\n",
    "\n",
    "plt.plot(x,y1)                          #plot y1\n",
    "plt.plot(x,y2)                          #plot y2\n",
    "plt.plot(x,y3)                          #plot y3\n",
    "\n",
    "plt.xlabel(\"Time in ASTR 119\")          #add label to x-axis\n",
    "plt.ylabel(\"Measure of Awesomeness\")    #add label to y-axis\n",
    "plt.xlim([0,2*np.pi])                   #set x range to [0,2pi]\n",
    "plt.ylim([-1,10])                       #set y range to [-1,10]"
   ]
  },
  {
   "cell_type": "code",
   "execution_count": null,
   "metadata": {},
   "outputs": [],
   "source": []
  }
 ],
 "metadata": {
  "kernelspec": {
   "display_name": "Python 3",
   "language": "python",
   "name": "python3"
  },
  "language_info": {
   "codemirror_mode": {
    "name": "ipython",
    "version": 3
   },
   "file_extension": ".py",
   "mimetype": "text/x-python",
   "name": "python",
   "nbconvert_exporter": "python",
   "pygments_lexer": "ipython3",
   "version": "3.8.5"
  }
 },
 "nbformat": 4,
 "nbformat_minor": 4
}
